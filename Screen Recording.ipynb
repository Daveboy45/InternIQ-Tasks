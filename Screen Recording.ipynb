{
 "cells": [
  {
   "cell_type": "code",
   "execution_count": 1,
   "id": "fef19721",
   "metadata": {},
   "outputs": [],
   "source": [
    "from PIL import ImageGrab\n",
    "import cv2\n",
    "import numpy as np"
   ]
  },
  {
   "cell_type": "code",
   "execution_count": 2,
   "id": "008e1cb1",
   "metadata": {},
   "outputs": [],
   "source": [
    "SCREEN_SIZE = (1920,1080)\n",
    "OUTPUT_FILE = 'myscreenrecord.avi'\n",
    "FPS = 10\n",
    "\n",
    "screen_width, screen_height = SCREEN_SIZE\n",
    "\n",
    "\n",
    "fourcc = cv2.VideoWriter_fourcc(*'XVID')\n",
    "out = cv2.VideoWriter(OUTPUT_FILE, fourcc, FPS, (screen_width,screen_height))\n",
    "\n",
    "\n",
    "try:\n",
    "    while True:\n",
    "        screenshot = ImageGrab.grab(bbox=(0,0,screen_width,screen_height))\n",
    "        frame = np.array(screenshot)\n",
    "        frame = cv2.cvtColor(frame, cv2.COLOR_RGB2BGR)\n",
    "        \n",
    "        out.write(frame)\n",
    "        \n",
    "except KeyboardInterrupt:\n",
    "    out.release()\n",
    "    cv2.destroyAllWindows()"
   ]
  },
  {
   "cell_type": "code",
   "execution_count": null,
   "id": "089e68f4",
   "metadata": {},
   "outputs": [],
   "source": []
  }
 ],
 "metadata": {
  "kernelspec": {
   "display_name": "Python 3 (ipykernel)",
   "language": "python",
   "name": "python3"
  },
  "language_info": {
   "codemirror_mode": {
    "name": "ipython",
    "version": 3
   },
   "file_extension": ".py",
   "mimetype": "text/x-python",
   "name": "python",
   "nbconvert_exporter": "python",
   "pygments_lexer": "ipython3",
   "version": "3.11.3"
  }
 },
 "nbformat": 4,
 "nbformat_minor": 5
}
