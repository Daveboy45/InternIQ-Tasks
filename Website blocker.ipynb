{
 "cells": [
  {
   "cell_type": "code",
   "execution_count": 1,
   "id": "790711f4",
   "metadata": {},
   "outputs": [],
   "source": [
    "# Import the necessary libraries\n",
    "import tkinter as tk\n",
    "from tkinter import messagebox\n",
    "import os"
   ]
  },
  {
   "cell_type": "code",
   "execution_count": 2,
   "id": "84f9a134",
   "metadata": {},
   "outputs": [],
   "source": [
    "def block_website():\n",
    "    try:\n",
    "        # Specify the website domain to block\n",
    "        website_domain = entry.get().strip()\n",
    "\n",
    "        hosts_path = r'C:\\Windows\\System32\\drivers\\etc\\hosts'\n",
    "        with open(hosts_path, 'a') as hosts_file:\n",
    "            hosts_file.write(f'127.0.0.1 {website_domain}\\n')\n",
    "\n",
    "        messagebox.showinfo(\"Success\", f\"Website {website_domain} blocked successfully.\")\n",
    "    except Exception as e:\n",
    "        messagebox.showerror(\"Error\", f\"An error occurred: {str(e)}\")"
   ]
  },
  {
   "cell_type": "code",
   "execution_count": 3,
   "id": "80d595af",
   "metadata": {},
   "outputs": [],
   "source": [
    "# Create the main window\n",
    "root = tk.Tk()\n",
    "root.title(\"Website Blocker\")\n",
    "\n",
    "# Create and pack widgets\n",
    "label = tk.Label(root, text=\"Enter the website domain to block:\")\n",
    "label.pack(pady=10)\n",
    "\n",
    "entry = tk.Entry(root, width=40)\n",
    "entry.pack(pady=10)\n",
    "\n",
    "block_button = tk.Button(root, text=\"Block Website\", command=block_website)\n",
    "block_button.pack(pady=20)\n",
    "\n",
    "# Start the main loop\n",
    "root.mainloop()"
   ]
  },
  {
   "cell_type": "code",
   "execution_count": null,
   "id": "9d057de4",
   "metadata": {},
   "outputs": [],
   "source": []
  }
 ],
 "metadata": {
  "kernelspec": {
   "display_name": "Python 3 (ipykernel)",
   "language": "python",
   "name": "python3"
  },
  "language_info": {
   "codemirror_mode": {
    "name": "ipython",
    "version": 3
   },
   "file_extension": ".py",
   "mimetype": "text/x-python",
   "name": "python",
   "nbconvert_exporter": "python",
   "pygments_lexer": "ipython3",
   "version": "3.11.3"
  }
 },
 "nbformat": 4,
 "nbformat_minor": 5
}
